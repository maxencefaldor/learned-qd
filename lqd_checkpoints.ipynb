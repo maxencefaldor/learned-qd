{
 "cells": [
  {
   "cell_type": "markdown",
   "metadata": {},
   "source": [
    "# Learned Quality-Diversity using checkpoints parameters"
   ]
  },
  {
   "cell_type": "markdown",
   "metadata": {},
   "source": [
    "## Import"
   ]
  },
  {
   "cell_type": "code",
   "execution_count": 1,
   "metadata": {},
   "outputs": [],
   "source": [
    "import os\n",
    "import pickle\n",
    "\n",
    "import jax\n",
    "import jax.numpy as jnp\n",
    "import wandb\n",
    "from omegaconf import OmegaConf\n",
    "\n",
    "from learned_qd.evo.populations.learned_population import LearnedPopulation"
   ]
  },
  {
   "cell_type": "code",
   "execution_count": 2,
   "metadata": {},
   "outputs": [],
   "source": [
    "key = jax.random.key(0)"
   ]
  },
  {
   "cell_type": "markdown",
   "metadata": {},
   "source": [
    "## Load model"
   ]
  },
  {
   "cell_type": "code",
   "execution_count": 3,
   "metadata": {},
   "outputs": [],
   "source": [
    "def get_config(run_path):\n",
    "\tif os.path.isdir(run_path):\n",
    "\t\t# Local\n",
    "\t\tconfig = OmegaConf.load(os.path.join(run_path, \".hydra\", \"config.yaml\"))\n",
    "\telse:\n",
    "\t\t# WandB\n",
    "\t\tapi = wandb.Api()\n",
    "\t\trun = api.run(run_path)\n",
    "\t\tconfig = OmegaConf.create(run.config)\n",
    "\n",
    "\treturn config\n",
    "\n",
    "\n",
    "def get_model_path(run_path):\n",
    "\tif os.path.isdir(run_path):\n",
    "\t\t# Local\n",
    "\t\tmodel_path = run_path\n",
    "\telse:\n",
    "\t\t# WandB\n",
    "\t\tapi = wandb.Api()\n",
    "\t\trun = api.run(run_path)\n",
    "\n",
    "\t\tartifacts = run.logged_artifacts()\n",
    "\t\tmodel = [artifact for artifact in artifacts if artifact.type == \"model\"][0]\n",
    "\t\tmodel_path = model.download()\n",
    "\n",
    "\treturn model_path\n",
    "\n",
    "\n",
    "def get_config_and_model_path(run_path):\n",
    "\tconfig = get_config(run_path)\n",
    "\tmodel_path = get_model_path(run_path)\n",
    "\treturn config, model_path"
   ]
  },
  {
   "cell_type": "markdown",
   "metadata": {},
   "source": [
    "## Learned Quality-Diversity trained for Fitness"
   ]
  },
  {
   "cell_type": "markdown",
   "metadata": {},
   "source": [
    "### Config"
   ]
  },
  {
   "cell_type": "code",
   "execution_count": 4,
   "metadata": {},
   "outputs": [],
   "source": [
    "batch_size = 1024\n",
    "genotype_size = 10\n",
    "descriptor_size = 2"
   ]
  },
  {
   "cell_type": "markdown",
   "metadata": {},
   "source": [
    "### Load fitness competition params"
   ]
  },
  {
   "cell_type": "code",
   "execution_count": 5,
   "metadata": {},
   "outputs": [],
   "source": [
    "with open(os.path.join(\"learned_qd\", \"evo\", \"populations\", \"params\", \"fitness.pickle\"), \"rb\") as f:\n",
    "\tparams = pickle.load(f)"
   ]
  },
  {
   "cell_type": "markdown",
   "metadata": {},
   "source": [
    "### Instantiate population"
   ]
  },
  {
   "cell_type": "code",
   "execution_count": 6,
   "metadata": {},
   "outputs": [],
   "source": [
    "population = LearnedPopulation.init(\n",
    "\tgenotype=jnp.zeros((genotype_size,)),\n",
    "\tkey=key,\n",
    "\tmax_size=1024,\n",
    "\tdescriptor_size=descriptor_size,\n",
    "\tlearned_fitness={\n",
    "\t\t\"num_layers\": 4,\n",
    "\t\t\"num_heads\": 4,\n",
    "\t\t\"num_features\": 16,\n",
    "\t\t\"num_ffn_features\": 16,\n",
    "\t},\n",
    ")\n",
    "\n",
    "population = population.replace(params=params)"
   ]
  },
  {
   "cell_type": "markdown",
   "metadata": {},
   "source": [
    "### Commit genotypes to the population"
   ]
  },
  {
   "cell_type": "code",
   "execution_count": 7,
   "metadata": {},
   "outputs": [],
   "source": [
    "# Dummy genotypes\n",
    "genotypes = jnp.zeros((batch_size, genotype_size))\n",
    "fitness = jnp.zeros((batch_size,))\n",
    "descriptor = jnp.zeros((batch_size, descriptor_size))\n",
    "\n",
    "# Commit dummy genotypes to population\n",
    "population = population.commit(genotypes, fitness, descriptor)"
   ]
  },
  {
   "cell_type": "markdown",
   "metadata": {},
   "source": [
    "## Learned Quality-Diversity trained for Novelty"
   ]
  },
  {
   "cell_type": "markdown",
   "metadata": {},
   "source": [
    "### Config"
   ]
  },
  {
   "cell_type": "code",
   "execution_count": 8,
   "metadata": {},
   "outputs": [],
   "source": [
    "batch_size = 1024\n",
    "genotype_size = 10\n",
    "descriptor_size = 2"
   ]
  },
  {
   "cell_type": "markdown",
   "metadata": {},
   "source": [
    "### Load fitness competition params"
   ]
  },
  {
   "cell_type": "code",
   "execution_count": 9,
   "metadata": {},
   "outputs": [],
   "source": [
    "with open(os.path.join(\"learned_qd\", \"evo\", \"populations\", \"params\", \"novelty.pickle\"), \"rb\") as f:\n",
    "\tparams = pickle.load(f)"
   ]
  },
  {
   "cell_type": "markdown",
   "metadata": {},
   "source": [
    "### Instantiate population"
   ]
  },
  {
   "cell_type": "code",
   "execution_count": 10,
   "metadata": {},
   "outputs": [],
   "source": [
    "population = LearnedPopulation.init(\n",
    "\tgenotype=jnp.zeros((genotype_size,)),\n",
    "\tkey=key,\n",
    "\tmax_size=1024,\n",
    "\tdescriptor_size=descriptor_size,\n",
    "\tlearned_fitness={\n",
    "\t\t\"num_layers\": 2,\n",
    "\t\t\"num_heads\": 4,\n",
    "\t\t\"num_features\": 16,\n",
    "\t\t\"num_ffn_features\": 16,\n",
    "\t},\n",
    ")\n",
    "\n",
    "population = population.replace(params=params)"
   ]
  },
  {
   "cell_type": "markdown",
   "metadata": {},
   "source": [
    "### Commit genotypes to the population"
   ]
  },
  {
   "cell_type": "code",
   "execution_count": 11,
   "metadata": {},
   "outputs": [],
   "source": [
    "# Dummy genotypes\n",
    "genotypes = jnp.zeros((batch_size, genotype_size))\n",
    "fitness = jnp.zeros((batch_size,))\n",
    "descriptor = jnp.zeros((batch_size, descriptor_size))\n",
    "\n",
    "# Commit dummy genotypes to population\n",
    "population = population.commit(genotypes, fitness, descriptor)"
   ]
  },
  {
   "cell_type": "markdown",
   "metadata": {},
   "source": [
    "## Learned Quality-Diversity trained for Quality-Diversity"
   ]
  },
  {
   "cell_type": "markdown",
   "metadata": {},
   "source": [
    "### Config"
   ]
  },
  {
   "cell_type": "code",
   "execution_count": 13,
   "metadata": {},
   "outputs": [],
   "source": [
    "batch_size = 1024\n",
    "genotype_size = 10\n",
    "descriptor_size = 2"
   ]
  },
  {
   "cell_type": "markdown",
   "metadata": {},
   "source": [
    "### Load fitness competition params"
   ]
  },
  {
   "cell_type": "code",
   "execution_count": 17,
   "metadata": {},
   "outputs": [],
   "source": [
    "with open(os.path.join(\"learned_qd\", \"evo\", \"populations\", \"params\", \"qd.pickle\"), \"rb\") as f:\n",
    "\tparams = pickle.load(f)"
   ]
  },
  {
   "cell_type": "markdown",
   "metadata": {},
   "source": [
    "### Instantiate population"
   ]
  },
  {
   "cell_type": "code",
   "execution_count": 18,
   "metadata": {},
   "outputs": [],
   "source": [
    "population = LearnedPopulation.init(\n",
    "\tgenotype=jnp.zeros((genotype_size,)),\n",
    "\tkey=key,\n",
    "\tmax_size=1024,\n",
    "\tdescriptor_size=descriptor_size,\n",
    "\tlearned_fitness={\n",
    "\t\t\"num_layers\": 4,\n",
    "\t\t\"num_heads\": 4,\n",
    "\t\t\"num_features\": 16,\n",
    "\t\t\"num_ffn_features\": 16,\n",
    "\t},\n",
    ")\n",
    "\n",
    "population = population.replace(params=params)"
   ]
  },
  {
   "cell_type": "markdown",
   "metadata": {},
   "source": [
    "### Commit genotypes to the population"
   ]
  },
  {
   "cell_type": "code",
   "execution_count": 19,
   "metadata": {},
   "outputs": [],
   "source": [
    "# Dummy genotypes\n",
    "genotypes = jnp.zeros((batch_size, genotype_size))\n",
    "fitness = jnp.zeros((batch_size,))\n",
    "descriptor = jnp.zeros((batch_size, descriptor_size))\n",
    "\n",
    "# Commit dummy genotypes to population\n",
    "population = population.commit(genotypes, fitness, descriptor)"
   ]
  }
 ],
 "metadata": {
  "kernelspec": {
   "display_name": ".venv",
   "language": "python",
   "name": "python3"
  },
  "language_info": {
   "codemirror_mode": {
    "name": "ipython",
    "version": 3
   },
   "file_extension": ".py",
   "mimetype": "text/x-python",
   "name": "python",
   "nbconvert_exporter": "python",
   "pygments_lexer": "ipython3",
   "version": "3.12.8"
  }
 },
 "nbformat": 4,
 "nbformat_minor": 2
}
